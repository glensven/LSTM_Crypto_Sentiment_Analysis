{
 "cells": [
  {
   "cell_type": "code",
   "execution_count": null,
   "metadata": {},
   "outputs": [],
   "source": [
    "# Initial imports\n",
    "\n",
    "from pathlib import Path\n",
    "import pandas as pd\n",
    "import numpy as np\n",
    "import matplotlib.pyplot as plt\n",
    "import hvplot.pandas\n",
    "import tensorflow as tf\n",
    "%matplotlib inline\n",
    "\n",
    "import os\n",
    "from dotenv import load_dotenv\n",
    "from nltk.sentiment.vader import SentimentIntensityAnalyzer\n",
    "from newsapi import NewsApiClient\n",
    "sid = SentimentIntensityAnalyzer()\n",
    "\n",
    "import panel as pn\n",
    "from panel.interact import interact"
   ]
  },
  {
   "cell_type": "code",
   "execution_count": null,
   "metadata": {},
   "outputs": [],
   "source": [
    "# Read your api key environment variable\n",
    "\n",
    "# Load .env enviroment variables\n",
    "load_dotenv()\n",
    "\n",
    "# Set News API Key\n",
    "newsapi = NewsApiClient(api_key=os.environ[\"NEWS_API_KEY\"])\n",
    "\n",
    "# Set nomics/other crypto data API key \n",
    "# Not necessary if just downloading dataframes"
   ]
  },
  {
   "cell_type": "markdown",
   "metadata": {},
   "source": [
    "---\n",
    "## Crypto returns"
   ]
  },
  {
   "cell_type": "code",
   "execution_count": null,
   "metadata": {},
   "outputs": [],
   "source": [
    "# Use selected API to obtain historical prices for selected Crypto\n",
    "# More than likely going to obtain latest data for selected cryptos but historical data will work well"
   ]
  },
  {
   "cell_type": "code",
   "execution_count": null,
   "metadata": {},
   "outputs": [],
   "source": [
    "# Create dataframes to house crypto data\n",
    "# May be helpful to just run it through postman to have a dataframe already made and just clean up\n",
    "# Drop unnecessary columns, keep only crypto name, date and price\n",
    "# Create new column for daily returns and fill using pct_change "
   ]
  },
  {
   "cell_type": "markdown",
   "metadata": {},
   "source": [
    "---\n",
    "## Sentiment analysis (primitive, limited machine learning)"
   ]
  },
  {
   "cell_type": "code",
   "execution_count": null,
   "metadata": {},
   "outputs": [],
   "source": [
    "# Fetch Bitcoin news articles\n",
    "# Fetch Dogecoin news articles\n",
    "# Fetch additional crypto news articles"
   ]
  },
  {
   "cell_type": "code",
   "execution_count": null,
   "metadata": {},
   "outputs": [],
   "source": [
    "# Consider using previously defined function(s):\n",
    "def create_df(news, language):\n",
    "    articles = []\n",
    "    for article in news:\n",
    "        try:\n",
    "            text = article[\"content\"]\n",
    "            articles.append({\n",
    "                \"text\": text,\n",
    "            })\n",
    "        except AttributeError:\n",
    "            pass\n",
    "    return pd.DataFrame(articles)\n",
    "\n",
    "# For headlines:\n",
    "# Example:\n",
    "btc_headlines, dates = get_headlines(\"bitcoin\")\n",
    "\n",
    "def headline_sentiment_summarizer_avg(headlines):\n",
    "    sentiment = []\n",
    "    for day in headlines:\n",
    "        day_score = []\n",
    "        for h in day:\n",
    "            if h == None:\n",
    "                continue\n",
    "            else:\n",
    "                day_score.append(sid.polarity_scores(h)[\"compound\"])\n",
    "        sentiment.append(sum(day_score) / len(day_score))\n",
    "    return sentiment\n",
    "# The function above should retain dates already"
   ]
  },
  {
   "cell_type": "code",
   "execution_count": null,
   "metadata": {},
   "outputs": [],
   "source": [
    "# Create necessary sentiment scores DataFrame(s)\n",
    "\n",
    "# Sentiment scores dictionaries\n",
    "# Example:\n",
    "btc_text = {\n",
    "    \"Compound\": [],\n",
    "    \"Negative\": [],\n",
    "    \"Neutral\": [],\n",
    "    \"Positive\": []\n",
    "}\n",
    "\n",
    "# Get sentiment for the text \n",
    "# Example:\n",
    "for index, row in btc_df.iterrows():\n",
    "    try:\n",
    "        # Sentiment scoring with VADER\n",
    "        text_sentiment = analyzer.polarity_scores(row[\"text\"])\n",
    "        btc_text[\"Compound\"].append(text_sentiment[\"compound\"])\n",
    "        btc_text[\"Negative\"].append(text_sentiment[\"neg\"])\n",
    "        btc_text[\"Neutral\"].append(text_sentiment[\"neu\"])\n",
    "        btc_text[\"Positive\"].append(text_sentiment[\"pos\"])\n",
    "    except AttributeError:\n",
    "        pass\n",
    "btc_sentiment_df = pd.DataFrame.from_dict(btc_text, orient='columns')\n",
    "btc_sentiment_df = btc_sentiment_df.join(btc_df)\n",
    "btc_sentiment_df.head()\n",
    "\n",
    "# Should be easy to remake for additional crypto\n",
    "# Find a way to retain dates from articles to match up with return dates\n",
    "# "
   ]
  },
  {
   "cell_type": "code",
   "execution_count": null,
   "metadata": {},
   "outputs": [],
   "source": [
    "# Describe the Bitcoin Sentiment"
   ]
  },
  {
   "cell_type": "code",
   "execution_count": null,
   "metadata": {},
   "outputs": [],
   "source": [
    "# Import tokenizing libraries\n",
    "from nltk.tokenize import word_tokenize, sent_tokenize\n",
    "from nltk.corpus import stopwords\n",
    "from nltk.stem import WordNetLemmatizer, PorterStemmer\n",
    "from string import punctuation\n",
    "import re"
   ]
  },
  {
   "cell_type": "code",
   "execution_count": null,
   "metadata": {},
   "outputs": [],
   "source": [
    "# Expand the default stopwords list if necessary"
   ]
  },
  {
   "cell_type": "code",
   "execution_count": null,
   "metadata": {},
   "outputs": [],
   "source": [
    "# Consider using previously defined tokenizer function\n",
    "def tokenizer(text):\n",
    "    \"\"\"Tokenizes text.\"\"\"\n",
    "    sw = set(stopwords.words('english'))\n",
    "    lemmatizer = WordNetLemmatizer()\n",
    "    regex = re.compile(\"[^a-zA-Z ]\")\n",
    "    re_clean = regex.sub('', text)\n",
    "    # Create a list of the words\n",
    "    words = word_tokenize(re_clean)\n",
    "    # Convert the words to lowercase, removing punctuation and stopwords\n",
    "    words = [word.lower() for word in words if word.lower() not in sw.union(sw_addons)]\n",
    "    # Lemmatize Words into root words\n",
    "    tokens = [lemmatizer.lemmatize(word) for word in words]\n",
    "    return tokens"
   ]
  },
  {
   "cell_type": "code",
   "execution_count": null,
   "metadata": {},
   "outputs": [],
   "source": [
    "# Create a new tokens column for crypto tokens\n",
    "# Example:\n",
    "btc_tokens = [tokenizer(text) for text in btc_sentiment_df[\"text\"]]\n",
    "btc_sentiment_df[\"tokens\"] = btc_tokens"
   ]
  },
  {
   "cell_type": "code",
   "execution_count": null,
   "metadata": {},
   "outputs": [],
   "source": [
    "# Import NER libraries \n",
    "import spacy\n",
    "from spacy import displacy"
   ]
  },
  {
   "cell_type": "code",
   "execution_count": null,
   "metadata": {},
   "outputs": [],
   "source": [
    "# Load the spaCy model\n",
    "nlp = spacy.load('en_core_web_sm')"
   ]
  },
  {
   "cell_type": "code",
   "execution_count": null,
   "metadata": {},
   "outputs": [],
   "source": [
    "# Concatenate all of the crypto text together\n",
    "# Example:\n",
    "all_btc_text = ' '.join(btc_sentiment_df[\"text\"])\n",
    "all_btc_text"
   ]
  },
  {
   "cell_type": "code",
   "execution_count": null,
   "metadata": {},
   "outputs": [],
   "source": [
    "# Run the NER processor on all of the text\n",
    "# Example:\n",
    "btc_doc = nlp(all_btc_text)"
   ]
  },
  {
   "cell_type": "code",
   "execution_count": null,
   "metadata": {},
   "outputs": [],
   "source": [
    "# Render the visualization\n",
    "displacy.render(btc_doc, style='ent')"
   ]
  },
  {
   "cell_type": "code",
   "execution_count": null,
   "metadata": {},
   "outputs": [],
   "source": [
    "# Not required, use for debugging and adding ent to stopwords list\n",
    "# List all Entities\n",
    "for ent in btc_doc.ents:\n",
    "    print(ent.text, ent.label_)"
   ]
  },
  {
   "cell_type": "code",
   "execution_count": null,
   "metadata": {},
   "outputs": [],
   "source": [
    "# The above code can easily be replicated and edited for additional crypto. Code should be run separately"
   ]
  },
  {
   "cell_type": "markdown",
   "metadata": {},
   "source": [
    "---\n",
    "## Dashboard"
   ]
  }
 ],
 "metadata": {
  "kernelspec": {
   "display_name": "Python 3",
   "language": "python",
   "name": "python3"
  },
  "language_info": {
   "codemirror_mode": {
    "name": "ipython",
    "version": 3
   },
   "file_extension": ".py",
   "mimetype": "text/x-python",
   "name": "python",
   "nbconvert_exporter": "python",
   "pygments_lexer": "ipython3",
   "version": "3.7.9"
  }
 },
 "nbformat": 4,
 "nbformat_minor": 4
}
