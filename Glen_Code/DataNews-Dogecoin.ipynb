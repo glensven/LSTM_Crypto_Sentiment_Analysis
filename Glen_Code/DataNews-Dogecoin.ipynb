{
 "cells": [
  {
   "cell_type": "code",
   "execution_count": null,
   "metadata": {},
   "outputs": [],
   "source": [
    "#pip install datanews"
   ]
  },
  {
   "cell_type": "code",
   "execution_count": 9,
   "metadata": {},
   "outputs": [],
   "source": [
    "import requests\n",
    "import pandas as pd\n",
    "import json\n",
    "from path import Path\n",
    "from dotenv import load_dotenv\n",
    "import os\n",
    "import requests\n",
    "import datanews\n",
    "from datetime import datetime\n",
    "import asyncio\n",
    "import time"
   ]
  },
  {
   "cell_type": "code",
   "execution_count": 10,
   "metadata": {},
   "outputs": [
    {
     "data": {
      "text/plain": [
       "True"
      ]
     },
     "execution_count": 10,
     "metadata": {},
     "output_type": "execute_result"
    }
   ],
   "source": [
    "# Laod .env environment\n",
    "load_dotenv()\n"
   ]
  },
  {
   "cell_type": "code",
   "execution_count": 11,
   "metadata": {},
   "outputs": [
    {
     "data": {
      "text/plain": [
       "str"
      ]
     },
     "execution_count": 11,
     "metadata": {},
     "output_type": "execute_result"
    }
   ],
   "source": [
    "# Load API Key\n",
    "datanews.api_key = os.getenv(\"datanews.api_key\")\n",
    "type(datanews.api_key)"
   ]
  },
  {
   "cell_type": "code",
   "execution_count": 12,
   "metadata": {},
   "outputs": [],
   "source": [
    "# Create a desired date range for news articles\n",
    "datelist = pd.DataFrame(pd.period_range(start ='5/5/2016', end = '5/5/2021', freq ='D'), columns = ['Date'])\n"
   ]
  },
  {
   "cell_type": "code",
   "execution_count": 5,
   "metadata": {},
   "outputs": [],
   "source": [
    "# Grab data from DataNews Api and load it into a dataframe\n",
    "dogecoin_appended_df = pd.DataFrame()\n",
    "for i in datelist.index:\n",
    "        time.sleep(.5)\n",
    "        #print(str(datelist['Date'].values[i]))\n",
    "        response = datanews.news(q='Dogecoin', language=['en'], from_date = str(datelist['Date'].values[i]), to_date = str(datelist['Date'].values[i]))\n",
    "        if len(response['hits']) > 0:\n",
    "            articles = response['hits']\n",
    "            dogecoin_df = pd.DataFrame(articles).fillna(0)\n",
    "            dogecoin_summary_df = bitcoin_df.loc[:,['pubDate','title','content']]\n",
    "            dogecoin_summary_df.pubDate = pd.to_datetime(dogecoin_summary_df.pubDate)\n",
    "            dogecoin_summary_df.set_index('pubDate', inplace = True)\n",
    "            dogecoin_summary_df.columns = ['Title','Content']\n",
    "            dogecoin_summary_df.index.names = ['Published Date']\n",
    "            dogecoin_appended_df = dogecoin_appended_df.append(dogecoin_summary_df)\n",
    "\n",
    "        \n"
   ]
  },
  {
   "cell_type": "code",
   "execution_count": 7,
   "metadata": {},
   "outputs": [
    {
     "data": {
      "text/html": [
       "<div>\n",
       "<style scoped>\n",
       "    .dataframe tbody tr th:only-of-type {\n",
       "        vertical-align: middle;\n",
       "    }\n",
       "\n",
       "    .dataframe tbody tr th {\n",
       "        vertical-align: top;\n",
       "    }\n",
       "\n",
       "    .dataframe thead th {\n",
       "        text-align: right;\n",
       "    }\n",
       "</style>\n",
       "<table border=\"1\" class=\"dataframe\">\n",
       "  <thead>\n",
       "    <tr style=\"text-align: right;\">\n",
       "      <th></th>\n",
       "      <th>Title</th>\n",
       "      <th>Content</th>\n",
       "    </tr>\n",
       "    <tr>\n",
       "      <th>Published Date</th>\n",
       "      <th></th>\n",
       "      <th></th>\n",
       "    </tr>\n",
       "  </thead>\n",
       "  <tbody>\n",
       "    <tr>\n",
       "      <th>2017-09-15 21:01:43+00:00</th>\n",
       "      <td>Is There a Cryptocurrency Bubble? Just Ask Doge.</td>\n",
       "      <td>Jackson Palmer, creator of Dogecoin, in San Fr...</td>\n",
       "    </tr>\n",
       "    <tr>\n",
       "      <th>2017-11-08 19:19:22+00:00</th>\n",
       "      <td>SegWit2x Hard Fork Called Off: ‘Common Sense’ ...</td>\n",
       "      <td>The controversial SegWit2x fork has been suspe...</td>\n",
       "    </tr>\n",
       "    <tr>\n",
       "      <th>2018-01-25 16:59:08+00:00</th>\n",
       "      <td>Cryptocurrency Scammers Are Running Wild On Te...</td>\n",
       "      <td>Messaging app Telegram started out as a WhatsA...</td>\n",
       "    </tr>\n",
       "    <tr>\n",
       "      <th>2018-10-20 11:45:03+00:00</th>\n",
       "      <td>UK Money Management App Emma Makes Crypto Push</td>\n",
       "      <td>The startup is behind the Emma app for iOS and...</td>\n",
       "    </tr>\n",
       "    <tr>\n",
       "      <th>2019-04-25 00:51:55+00:00</th>\n",
       "      <td>Yelp's Bitcoin Filter Could Kickstart Weak Cry...</td>\n",
       "      <td>By CCN: As bitcoin’s price experienced a surge...</td>\n",
       "    </tr>\n",
       "  </tbody>\n",
       "</table>\n",
       "</div>"
      ],
      "text/plain": [
       "                                                                       Title  \\\n",
       "Published Date                                                                 \n",
       "2017-09-15 21:01:43+00:00   Is There a Cryptocurrency Bubble? Just Ask Doge.   \n",
       "2017-11-08 19:19:22+00:00  SegWit2x Hard Fork Called Off: ‘Common Sense’ ...   \n",
       "2018-01-25 16:59:08+00:00  Cryptocurrency Scammers Are Running Wild On Te...   \n",
       "2018-10-20 11:45:03+00:00     UK Money Management App Emma Makes Crypto Push   \n",
       "2019-04-25 00:51:55+00:00  Yelp's Bitcoin Filter Could Kickstart Weak Cry...   \n",
       "\n",
       "                                                                     Content  \n",
       "Published Date                                                                \n",
       "2017-09-15 21:01:43+00:00  Jackson Palmer, creator of Dogecoin, in San Fr...  \n",
       "2017-11-08 19:19:22+00:00  The controversial SegWit2x fork has been suspe...  \n",
       "2018-01-25 16:59:08+00:00  Messaging app Telegram started out as a WhatsA...  \n",
       "2018-10-20 11:45:03+00:00  The startup is behind the Emma app for iOS and...  \n",
       "2019-04-25 00:51:55+00:00  By CCN: As bitcoin’s price experienced a surge...  "
      ]
     },
     "execution_count": 7,
     "metadata": {},
     "output_type": "execute_result"
    }
   ],
   "source": [
    "# Check dataframe\n",
    "dogecoin_appended_df.head()"
   ]
  },
  {
   "cell_type": "code",
   "execution_count": 8,
   "metadata": {},
   "outputs": [],
   "source": [
    "# Turn dataframe into csv\n",
    "dogecoin_appended_df.to_csv('DataNews_Dogecoin.csv',  index = True)"
   ]
  },
  {
   "cell_type": "code",
   "execution_count": null,
   "metadata": {},
   "outputs": [],
   "source": []
  }
 ],
 "metadata": {
  "kernelspec": {
   "display_name": "Python [conda env:dlenv] *",
   "language": "python",
   "name": "conda-env-dlenv-py"
  },
  "language_info": {
   "codemirror_mode": {
    "name": "ipython",
    "version": 3
   },
   "file_extension": ".py",
   "mimetype": "text/x-python",
   "name": "python",
   "nbconvert_exporter": "python",
   "pygments_lexer": "ipython3",
   "version": "3.7.9"
  }
 },
 "nbformat": 4,
 "nbformat_minor": 4
}
