{
 "cells": [
  {
   "cell_type": "code",
   "execution_count": null,
   "metadata": {},
   "outputs": [],
   "source": [
    "#pip install datanews"
   ]
  },
  {
   "cell_type": "code",
   "execution_count": 1,
   "metadata": {},
   "outputs": [],
   "source": [
    "import requests\n",
    "import pandas as pd\n",
    "import json\n",
    "from path import Path\n",
    "from dotenv import load_dotenv\n",
    "import os\n",
    "import requests\n",
    "import datanews\n",
    "from datetime import datetime\n",
    "import asyncio\n",
    "import time"
   ]
  },
  {
   "cell_type": "code",
   "execution_count": 2,
   "metadata": {},
   "outputs": [
    {
     "data": {
      "text/plain": [
       "True"
      ]
     },
     "execution_count": 2,
     "metadata": {},
     "output_type": "execute_result"
    }
   ],
   "source": [
    "# Laod .env environment\n",
    "load_dotenv()\n"
   ]
  },
  {
   "cell_type": "code",
   "execution_count": 3,
   "metadata": {},
   "outputs": [
    {
     "data": {
      "text/plain": [
       "str"
      ]
     },
     "execution_count": 3,
     "metadata": {},
     "output_type": "execute_result"
    }
   ],
   "source": [
    "# Load API Key\n",
    "datanews.api_key = os.getenv(\"datanews.api_key\")\n",
    "type(datanews.api_key)"
   ]
  },
  {
   "cell_type": "code",
   "execution_count": 56,
   "metadata": {},
   "outputs": [
    {
     "data": {
      "text/html": [
       "<div>\n",
       "<style scoped>\n",
       "    .dataframe tbody tr th:only-of-type {\n",
       "        vertical-align: middle;\n",
       "    }\n",
       "\n",
       "    .dataframe tbody tr th {\n",
       "        vertical-align: top;\n",
       "    }\n",
       "\n",
       "    .dataframe thead th {\n",
       "        text-align: right;\n",
       "    }\n",
       "</style>\n",
       "<table border=\"1\" class=\"dataframe\">\n",
       "  <thead>\n",
       "    <tr style=\"text-align: right;\">\n",
       "      <th></th>\n",
       "      <th>Date</th>\n",
       "    </tr>\n",
       "  </thead>\n",
       "  <tbody>\n",
       "    <tr>\n",
       "      <th>0</th>\n",
       "      <td>2019-05-16</td>\n",
       "    </tr>\n",
       "    <tr>\n",
       "      <th>1</th>\n",
       "      <td>2019-05-17</td>\n",
       "    </tr>\n",
       "    <tr>\n",
       "      <th>2</th>\n",
       "      <td>2019-05-18</td>\n",
       "    </tr>\n",
       "  </tbody>\n",
       "</table>\n",
       "</div>"
      ],
      "text/plain": [
       "         Date\n",
       "0  2019-05-16\n",
       "1  2019-05-17\n",
       "2  2019-05-18"
      ]
     },
     "execution_count": 56,
     "metadata": {},
     "output_type": "execute_result"
    }
   ],
   "source": [
    "datelist = pd.DataFrame(pd.period_range(start ='5/16/2019', end = '5/18/2019', freq ='D'), columns = ['Date'])\n",
    "datelist"
   ]
  },
  {
   "cell_type": "code",
   "execution_count": 57,
   "metadata": {},
   "outputs": [],
   "source": [
    "bitcoin_appended_df = pd.DataFrame()"
   ]
  },
  {
   "cell_type": "code",
   "execution_count": null,
   "metadata": {},
   "outputs": [],
   "source": []
  },
  {
   "cell_type": "code",
   "execution_count": null,
   "metadata": {},
   "outputs": [],
   "source": []
  },
  {
   "cell_type": "code",
   "execution_count": 58,
   "metadata": {},
   "outputs": [
    {
     "name": "stdout",
     "output_type": "stream",
     "text": [
      "2019-05-16\n",
      "2019-05-17\n",
      "2019-05-18\n"
     ]
    }
   ],
   "source": [
    "\n",
    "bitcoin_appended_df = pd.DataFrame()\n",
    "for i in datelist.index:\n",
    "        print(str(datelist['Date'].values[i]))\n",
    "        response = datanews.news(q='Bitcoin', language=['en'], from_date = str(datelist['Date'].values[i]), to_date = str(datelist['Date'].values[i]))\n",
    "        if len(response['hits']) > 0:\n",
    "            articles = response['hits']\n",
    "            bitcoin_df = pd.DataFrame(articles).fillna(0)\n",
    "            bitcoin_summary_df = bitcoin_df.loc[:,['pubDate','title','content']]\n",
    "            bitcoin_summary_df.pubDate = pd.to_datetime(bitcoin_summary_df.pubDate)\n",
    "            bitcoin_summary_df.set_index('pubDate', inplace = True)\n",
    "            bitcoin_summary_df.columns = ['Title','Content']\n",
    "            bitcoin_summary_df.index.names = ['Published Date']\n",
    "            bitcoin_appended_df = bitcoin_appended_df.append(bitcoin_summary_df)\n",
    "\n",
    "        \n"
   ]
  },
  {
   "cell_type": "code",
   "execution_count": 46,
   "metadata": {},
   "outputs": [
    {
     "data": {
      "text/html": [
       "<div>\n",
       "<style scoped>\n",
       "    .dataframe tbody tr th:only-of-type {\n",
       "        vertical-align: middle;\n",
       "    }\n",
       "\n",
       "    .dataframe tbody tr th {\n",
       "        vertical-align: top;\n",
       "    }\n",
       "\n",
       "    .dataframe thead th {\n",
       "        text-align: right;\n",
       "    }\n",
       "</style>\n",
       "<table border=\"1\" class=\"dataframe\">\n",
       "  <thead>\n",
       "    <tr style=\"text-align: right;\">\n",
       "      <th></th>\n",
       "      <th>Title</th>\n",
       "      <th>Content</th>\n",
       "    </tr>\n",
       "    <tr>\n",
       "      <th>Published Date</th>\n",
       "      <th></th>\n",
       "      <th></th>\n",
       "    </tr>\n",
       "  </thead>\n",
       "  <tbody>\n",
       "    <tr>\n",
       "      <th>2019-05-16 15:10:06+00:00</th>\n",
       "      <td>2020 President Andrew Yang Promises 'Fun Bitco...</td>\n",
       "      <td>By CCN.com: Cryptocurrency is firmly on the ag...</td>\n",
       "    </tr>\n",
       "    <tr>\n",
       "      <th>2019-05-16 17:39:59+00:00</th>\n",
       "      <td>Meteoric Bitcoin Rally Won't Rescue Nvidia's F...</td>\n",
       "      <td>By CCN: Nvidia previously blamed its negative ...</td>\n",
       "    </tr>\n",
       "  </tbody>\n",
       "</table>\n",
       "</div>"
      ],
      "text/plain": [
       "                                                                       Title  \\\n",
       "Published Date                                                                 \n",
       "2019-05-16 15:10:06+00:00  2020 President Andrew Yang Promises 'Fun Bitco...   \n",
       "2019-05-16 17:39:59+00:00  Meteoric Bitcoin Rally Won't Rescue Nvidia's F...   \n",
       "\n",
       "                                                                     Content  \n",
       "Published Date                                                                \n",
       "2019-05-16 15:10:06+00:00  By CCN.com: Cryptocurrency is firmly on the ag...  \n",
       "2019-05-16 17:39:59+00:00  By CCN: Nvidia previously blamed its negative ...  "
      ]
     },
     "execution_count": 46,
     "metadata": {},
     "output_type": "execute_result"
    }
   ],
   "source": [
    "bitcoin_appended_df"
   ]
  },
  {
   "cell_type": "code",
   "execution_count": null,
   "metadata": {},
   "outputs": [],
   "source": []
  },
  {
   "cell_type": "code",
   "execution_count": null,
   "metadata": {},
   "outputs": [],
   "source": []
  }
 ],
 "metadata": {
  "kernelspec": {
   "display_name": "Python [conda env:dlenv] *",
   "language": "python",
   "name": "conda-env-dlenv-py"
  },
  "language_info": {
   "codemirror_mode": {
    "name": "ipython",
    "version": 3
   },
   "file_extension": ".py",
   "mimetype": "text/x-python",
   "name": "python",
   "nbconvert_exporter": "python",
   "pygments_lexer": "ipython3",
   "version": "3.7.9"
  }
 },
 "nbformat": 4,
 "nbformat_minor": 4
}
